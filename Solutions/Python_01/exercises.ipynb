{
 "cells": [
  {
   "cell_type": "markdown",
   "metadata": {},
   "source": [
    "### print the list `lst` sorted in descending order. `lst` must not be modified"
   ]
  },
  {
   "cell_type": "code",
   "execution_count": null,
   "metadata": {},
   "outputs": [],
   "source": [
    "lst = [12,41,0,-5,-9,34,12,5,]  # you can add , also to the last element (i.e., after each element)"
   ]
  },
  {
   "cell_type": "code",
   "execution_count": null,
   "metadata": {},
   "outputs": [],
   "source": [
    "[print(_) for _ in sorted(lst, reverse=True)]\n",
    "print(lst) #check lst is unchanged"
   ]
  },
  {
   "cell_type": "markdown",
   "metadata": {},
   "source": [
    "### construct a list with the **absolute value** of the elements of sorted `lst`, as follows. I am not asking to sort using `abs` as key\n",
    "```[9, 5, 0, 5, 12, 12, 34, 41]```\n",
    "\n",
    "Try different ways to construct such list"
   ]
  },
  {
   "cell_type": "code",
   "execution_count": null,
   "metadata": {},
   "outputs": [],
   "source": [
    "[abs(_) for _ in sorted(lst)] #1) list comprehension\n",
    "\n",
    "l = []                        #2) for loop\n",
    "for _ in sorted(lst):\n",
    "    l.append(abs(_))\n",
    "l\n",
    "\n",
    "i = 0; l = sorted(lst)        #3) while loop\n",
    "while i < len(l):\n",
    "  l[i] = abs(l[i])\n",
    "  i += 1\n",
    "l"
   ]
  },
  {
   "cell_type": "markdown",
   "metadata": {},
   "source": [
    "### read a string from stdin, print the number of non-repeated chars "
   ]
  },
  {
   "cell_type": "code",
   "execution_count": null,
   "metadata": {},
   "outputs": [],
   "source": [
    "I = input(\"Insert a string\")\n",
    "print(len(set(I)))"
   ]
  },
  {
   "cell_type": "markdown",
   "metadata": {},
   "source": [
    "### Use the pythonic way to iterate over `lst` such that inside the `for` loop you have both the index and the corresponding element. Reproduce the following output\n",
    "\n",
    "```\n",
    "lst[0] = 12\n",
    "lst[1] = 41\n",
    "lst[2] = 0\n",
    "lst[3] = -5\n",
    "lst[4] = -9\n",
    "lst[5] = 34\n",
    "lst[6] = 12\n",
    "lst[7] = 5\n",
    "```"
   ]
  },
  {
   "cell_type": "code",
   "execution_count": null,
   "metadata": {},
   "outputs": [],
   "source": [
    "[print(f\"lst[{lst.index(_)}] = {_}\") for _ in lst]"
   ]
  },
  {
   "cell_type": "markdown",
   "metadata": {},
   "source": [
    "### Transform the following for loop into a list comp"
   ]
  },
  {
   "cell_type": "code",
   "execution_count": null,
   "metadata": {},
   "outputs": [],
   "source": [
    "odd_squares = []\n",
    "for i in range(10):\n",
    "    if i % 2 != 0:\n",
    "        odd_squares.append(i * i)\n",
    "odd_squares"
   ]
  },
  {
   "cell_type": "code",
   "execution_count": null,
   "metadata": {},
   "outputs": [],
   "source": [
    "[i**2 for i in range(10) if i % 2 != 0]"
   ]
  },
  {
   "cell_type": "markdown",
   "metadata": {},
   "source": [
    "### clear the content of `lst` such that also all other references are cleared as well"
   ]
  },
  {
   "cell_type": "code",
   "execution_count": null,
   "metadata": {},
   "outputs": [],
   "source": [
    "other_lst = lst\n",
    "a = lst"
   ]
  },
  {
   "cell_type": "code",
   "execution_count": null,
   "metadata": {},
   "outputs": [],
   "source": [
    "print('simply changing reference for lst to an empty container does not affect references to lst')\n",
    "#lst = [] \n",
    "#print(other_lst, a)\n",
    "#print('#---------------------------')\n",
    "print('...while clearing a list in place clears all other references to it')\n",
    "lst.clear() #OR  del lst[:]  OR  lst[:]=[]  OR  lst *= 0 (so 4 ways to do so) \n",
    "print(other_lst, a)"
   ]
  },
  {
   "cell_type": "markdown",
   "metadata": {},
   "source": [
    "### implement the following functions. Try to do it using as few lines of code as possible (e.g., 1)"
   ]
  },
  {
   "cell_type": "code",
   "execution_count": null,
   "metadata": {},
   "outputs": [],
   "source": [
    "def is_palindrome(string):\n",
    "    '''\n",
    "    returns True if string is palindrome, False otherwise\n",
    "    '''\n",
    "    return True if string == string[::-1] else False \n",
    "\n",
    "is_palindrome('saippuakivikauppias')"
   ]
  },
  {
   "cell_type": "code",
   "execution_count": null,
   "metadata": {},
   "outputs": [],
   "source": [
    "def counter_dict(sequence):\n",
    "    \"\"\"\n",
    "    count how many times an element is present in the sequence var\n",
    "    and returns a dict\n",
    "    \"\"\"\n",
    "    return {letter:sequence.count(letter) for letter in sequence}\n",
    "\n",
    "counter_dict(\"mammalaaa\")"
   ]
  },
  {
   "cell_type": "code",
   "execution_count": null,
   "metadata": {},
   "outputs": [],
   "source": [
    "def get_most_frequent(sequence):\n",
    "    \"\"\"\n",
    "    returns a tuple with the most frequent object in the sequence with the \n",
    "    corresponing number\n",
    "    \"\"\"\n",
    "    return  tuple([(k, v) for k, v in {letter:sequence.count(letter) for letter in sequence}.items() if v == max({letter:sequence.count(letter) for letter in sequence}.values())])\n",
    "\n",
    "get_most_frequent(\"mammalaaa\")"
   ]
  },
  {
   "cell_type": "code",
   "execution_count": null,
   "metadata": {},
   "outputs": [],
   "source": [
    "def which_duplicates(sequence):\n",
    "    \"\"\"\n",
    "    return a dict containing the repeted objects and the number of repetitions\n",
    "    \"\"\"\n",
    "    return {(k, v) for k, v in {letter:sequence.count(letter) for letter in sequence}.items() if v > 1}\n",
    "\n",
    "which_duplicates(\"mammal\")"
   ]
  }
 ],
 "metadata": {
  "kernelspec": {
   "display_name": "Python 3 (ipykernel)",
   "language": "python",
   "name": "python3"
  },
  "language_info": {
   "codemirror_mode": {
    "name": "ipython",
    "version": 3
   },
   "file_extension": ".py",
   "mimetype": "text/x-python",
   "name": "python",
   "nbconvert_exporter": "python",
   "pygments_lexer": "ipython3",
   "version": "3.8.2"
  }
 },
 "nbformat": 4,
 "nbformat_minor": 4
}
